{
  "nbformat": 4,
  "nbformat_minor": 0,
  "metadata": {
    "colab": {
      "provenance": []
    },
    "kernelspec": {
      "name": "python3",
      "display_name": "Python 3"
    },
    "language_info": {
      "name": "python"
    }
  },
  "cells": [
    {
      "cell_type": "markdown",
      "source": [
        "Q1: How many multiplications and additions do you need to perform a matrix multiplication between a (n, k) and (k, m) matrix? Explain."
      ],
      "metadata": {
        "id": "Dk5Oddm9Nl7F"
      }
    },
    {
      "cell_type": "markdown",
      "source": [
        "Ans1:\n",
        "  >For matrices A = (n, k) and B = (k, m) we will have the row of A mulitplied with the column of B. This dot product will involve in total k multiplicaton. We will get the resultant matrix (n, m). In total there will be n*m elements. for each element there will be k multiplications so in total the number of multiplications will be n*m*k. For each element of the resultant matrix we will have to add up the k multiplications so we will need (k-1) additions. For the entire matrix total additions will be  n*m*(k-1)\n",
        "\n",
        "---\n",
        "\n"
      ],
      "metadata": {
        "id": "hv2CArpGOJ_Z"
      }
    },
    {
      "cell_type": "markdown",
      "source": [
        "Q2 Write Python code to multiply the above two matrices. Solve using list of lists and then use numpy. Compare the timing of both solutions. Which one is faster? Why?"
      ],
      "metadata": {
        "id": "iynCKjINUlJ4"
      }
    },
    {
      "cell_type": "markdown",
      "source": [
        "Ans2:\n",
        ">NumPy uses contiguous allocation of memory which helps in efficient utilization by the CPU as when processing most likely the following data is already ready in the queue to be processed. Whereas, in list the data is scattered in the memory which causes delay.\n",
        " NumPy uses vectorized operations, i.e. it can perform operations on the entire array at once and then there is no need of looping. whereas, in list we need to implement loops in order to access elements separately.  \n",
        "Also, numpy functions are based on C language which is very efficient and fast which maked the numPy faster than list of lists.\n"
      ],
      "metadata": {
        "id": "KYHmS8gOSQT0"
      }
    },
    {
      "cell_type": "code",
      "source": [
        "import time\n",
        "\n",
        "def matrixMulUsingListOfLists(x, y):\n",
        "    n, k = len(x), len(x[0])\n",
        "    k, m = len(y), len(y[0])\n",
        "    res = [[0] * m for _ in range(n)]\n",
        "    for i in range(n):\n",
        "        for j in range(m):\n",
        "            for l in range(k):\n",
        "                res[i][j] += x[i][l] * y[l][j]\n",
        "    return res\n",
        "\n",
        "x = [[1, 2, 3], [4, 5, 6]]\n",
        "y = [[7, 8], [9, 10], [11, 12]]\n",
        "\n",
        "startingTime = time.time()\n",
        "resList = matrixMulUsingListOfLists(x, y)\n",
        "endingTime = time.time()\n",
        "listsTime = endingTime - startingTime\n",
        "print(\"List of lists time:\", listsTime)\n"
      ],
      "metadata": {
        "colab": {
          "base_uri": "https://localhost:8080/"
        },
        "id": "aFoWxgb3Uk2C",
        "outputId": "ee2b0e07-ef42-4fa0-d047-c6ff53f4a22c"
      },
      "execution_count": 3,
      "outputs": [
        {
          "output_type": "stream",
          "name": "stdout",
          "text": [
            "List of lists time: 0.0001087188720703125\n"
          ]
        }
      ]
    },
    {
      "cell_type": "code",
      "source": [
        "import numpy as np\n",
        "\n",
        "def matrixMulUsingNumpy(x, y):\n",
        "    return np.matmul(x, y)\n",
        "\n",
        "x_np = np.array(x)\n",
        "y_np = np.array(y)\n",
        "\n",
        "startingTime = time.time()\n",
        "result_numpy = matrixMulUsingNumpy(x_np, y_np)\n",
        "endingTime = time.time()\n",
        "numpyTime = endingTime - startingTime\n",
        "print(\"NumPy time:\", numpyTime)\n"
      ],
      "metadata": {
        "colab": {
          "base_uri": "https://localhost:8080/"
        },
        "id": "nAvv2PUWOI7J",
        "outputId": "d6a31521-dcb2-4287-e726-3baf6c04c8e9"
      },
      "execution_count": 4,
      "outputs": [
        {
          "output_type": "stream",
          "name": "stdout",
          "text": [
            "NumPy time: 0.0006310939788818359\n"
          ]
        }
      ]
    },
    {
      "cell_type": "markdown",
      "source": [
        "\n",
        "\n",
        "---\n",
        "\n"
      ],
      "metadata": {
        "id": "3Ka1PJ4ATamr"
      }
    },
    {
      "cell_type": "markdown",
      "source": [
        "Q4: What is the gradient of the following function with respect to x and y?\n",
        "x^2y + y^3sin(x)"
      ],
      "metadata": {
        "id": "8pVsCs10JXJt"
      }
    },
    {
      "cell_type": "markdown",
      "source": [
        "Ans 4:\n",
        "> f() = x^2y + y^3sin(x)<br>\n",
        "Partial derivative with respect to x: df/dx = 2xy + y^3cos(x) <br>\n",
        "Partial derivative with respect to x: df/dy = x^2 + 3y^2sin(x) <br>\n",
        "Thus, Resultant gradient: f(x, y) = 2xy + y^3cos(x), x^2 + 3y^2sin(x)<br>\n",
        "Here, x (i.e. the first component) represents the rate of change of function in y direction. And y (i.e. the second component) represents the rate of change of function in y direction.\n",
        "\n",
        "---\n",
        "\n",
        "\n",
        "\n",
        "\n"
      ],
      "metadata": {
        "id": "Lf37YM_6JXDe"
      }
    },
    {
      "cell_type": "markdown",
      "source": [
        "Q5: Use JAX to confirm the gradient evaluated by your method matches the analytical solution corresponding to a few random values of x and y"
      ],
      "metadata": {
        "id": "j025KrLeJWz1"
      }
    },
    {
      "cell_type": "code",
      "source": [
        "import jax\n",
        "import jax.numpy as jnp\n",
        "from jax import grad\n",
        "\n",
        "@jax.jit\n",
        "def f(x, y):\n",
        "    return jnp.sum(x**2 * y + y**3 * jnp.sin(x))  # Sum to get a scalar output\n",
        "\n",
        "\n",
        "key = jax.random.PRNGKey(42)  # Set a random seed for reproducibility\n",
        "xVals = jax.random.uniform(key, (5, ))  # Generate 5 random values for x\n",
        "yVals = jax.random.uniform(key, (5, ))  # Generate 5 random values for y\n",
        "\n",
        "#compting gradient\n",
        "gradientF = grad(f)\n",
        "gradientVals = gradientF(xVals, yVals)\n",
        "\n",
        "#analytical gradient\n",
        "analyticalGradVals = jnp.stack([2 * xVals * yVals + yVals**3 * jnp.cos(xVals), xVals**2 + 3 * yVals**2 * jnp.sin(xVals)], axis=1)\n",
        "\n",
        "#results\n",
        "print(\"JAX gradients:\", gradientVals)\n",
        "print(\"Analytical gradients:\", analyticalGradVals)\n"
      ],
      "metadata": {
        "id": "zeAD874GRTn8",
        "colab": {
          "base_uri": "https://localhost:8080/"
        },
        "outputId": "00296ae7-e118-4ade-a83b-28cf96950c76"
      },
      "execution_count": 5,
      "outputs": [
        {
          "output_type": "stream",
          "name": "stdout",
          "text": [
            "JAX gradients: [1.3549877  1.9348412  0.08461008 0.09551075 0.07604416]\n",
            "Analytical gradients: [[1.3549877  1.5980151 ]\n",
            " [1.9348412  2.4866657 ]\n",
            " [0.08461008 0.06118227]\n",
            " [0.09551075 0.07021526]\n",
            " [0.07604416 0.05421515]]\n"
          ]
        }
      ]
    },
    {
      "cell_type": "markdown",
      "source": [
        "\n",
        "\n",
        "---\n",
        "\n"
      ],
      "metadata": {
        "id": "UNq2cKfDLhqw"
      }
    },
    {
      "cell_type": "markdown",
      "source": [
        "Q7 Create a Python nested dictionary to represent hierarchical information. We want to store record of students and their marks. Something like: ...\n",
        "\n"
      ],
      "metadata": {
        "id": "BoZew8LmUvnv"
      }
    },
    {
      "cell_type": "code",
      "source": [
        "stud_records = {\n",
        "    \"2022\": {\n",
        "        \"Branch 1\": {\n",
        "            \"1\": {\n",
        "                \"Name\": \"N\",\n",
        "                \"Marks\": {\n",
        "                    \"Maths\": 100,\n",
        "                    \"English\": 70,\n",
        "                    # ... other subjects\n",
        "                }\n",
        "            },\n",
        "            # ... Data in Branch 1\n",
        "        },\n",
        "        \"Branch 2\": {\n",
        "            # ... Data Branch 2\n",
        "        }\n",
        "    },\n",
        "    \"2023\": {\n",
        "        # ... Data of bath of 2023\n",
        "    },\n",
        "    \"2024\": {\n",
        "        # ... Data of bath of 2024\n",
        "    },\n",
        "    \"2025\": {\n",
        "        # ... Data of bath of 2025\n",
        "    }\n",
        "}\n"
      ],
      "metadata": {
        "id": "8xv382raU7gc"
      },
      "execution_count": 6,
      "outputs": []
    },
    {
      "cell_type": "markdown",
      "source": [
        "\n",
        "\n",
        "---\n",
        "\n"
      ],
      "metadata": {
        "id": "qDPw9ZU6PLam"
      }
    },
    {
      "cell_type": "markdown",
      "source": [
        "Q8: Store the same information using Python classes. We have an overall database which is a list of year objects. Each year contains a list of branches. Each branch contains a list of students. Each student has some properties like name, roll number and has marks in some subjects."
      ],
      "metadata": {
        "id": "-EZdPWzJUviy"
      }
    },
    {
      "cell_type": "code",
      "source": [
        "class Student:\n",
        "    def __init__(self, name, roll_number, marks):\n",
        "        self.name = name\n",
        "        self.roll_number = roll_number\n",
        "        self.marks = marks\n",
        "\n",
        "class Branch:\n",
        "    def __init__(self, name):\n",
        "        self.name = name\n",
        "        self.students = []\n",
        "\n",
        "    def AddStudent(self, student):\n",
        "        self.students.append(student)\n",
        "\n",
        "class Year:\n",
        "    def __init__(self, year):\n",
        "        self.year = year\n",
        "        self.branches = []\n",
        "\n",
        "    def AddBranch(self, branch):\n",
        "        self.branches.append(branch)\n",
        "\n",
        "class Database:\n",
        "    def __init__(self):\n",
        "        self.years = []\n",
        "\n",
        "    def AddYear(self, year):\n",
        "        self.years.append(year)\n",
        "\n",
        "\n",
        "database = Database()\n",
        "\n",
        "year2023 = Year(2023)\n",
        "branch1 = Branch(\"Branch 1\")\n",
        "branch1.AddStudent(Student(\"N\", 1, {\"Maths\": 99, \"English\": 89}))\n",
        "year2023.AddBranch(branch1)\n",
        "\n",
        "database.AddYear(year2023)\n",
        "\n",
        "#extracting the marks of a student of batch 2023\n",
        "student = database.years[0].branches[0].students[0]\n",
        "print(student.marks[\"Maths\"])\n"
      ],
      "metadata": {
        "colab": {
          "base_uri": "https://localhost:8080/"
        },
        "id": "u7wwPtUaO0E3",
        "outputId": "227d576b-38ce-4c55-acd9-d8429eb77fe4"
      },
      "execution_count": 7,
      "outputs": [
        {
          "output_type": "stream",
          "name": "stdout",
          "text": [
            "99\n"
          ]
        }
      ]
    },
    {
      "cell_type": "markdown",
      "source": [
        "\n",
        "\n",
        "---\n",
        "\n"
      ],
      "metadata": {
        "id": "JR6xHjE6UvY7"
      }
    },
    {
      "cell_type": "markdown",
      "source": [
        "Q10: Using numpy generate a matrix of size 20X5 containing random numbers drawn uniformly from the range of 1 to 2. Using Pandas create a dataframe out of this matrix. Name the columns of the dataframe as “a”, “b”, “c”, “d”, “e”. Find the column with the highest standard deviation. Find the row with the lowest mean."
      ],
      "metadata": {
        "id": "ZlC6-QqiNoyX"
      }
    },
    {
      "cell_type": "code",
      "source": [
        "import numpy as np\n",
        "import pandas as pd\n",
        "\n",
        "# Generate matrix with random vals between 1 and 2\n",
        "randomMatrix = np.random.uniform(low=1, high=2, size=(20, 5))\n",
        "print(randomMatrix)\n",
        "\n",
        "# Create the DataFrame from the NumPy matrix\n",
        "df = pd.DataFrame(randomMatrix, columns=['a', 'b', 'c', 'd', 'e'])\n",
        "\n",
        "# Find the column with the highest standard deviation\n",
        "colHighestSD = df.std().idxmax()\n",
        "print(\"Highest standard deviation column:\", colHighestSD)\n",
        "\n",
        "# Find the row with the lowest mean\n",
        "rowLowestMean = df.mean(axis=1).idxmin()\n",
        "print(\"Lowest mean row:\", rowLowestMean)\n",
        "\n"
      ],
      "metadata": {
        "id": "44O-cu1XPeY5",
        "colab": {
          "base_uri": "https://localhost:8080/"
        },
        "outputId": "d8811189-f878-4a93-db56-3825c670e4fb"
      },
      "execution_count": 8,
      "outputs": [
        {
          "output_type": "stream",
          "name": "stdout",
          "text": [
            "[[1.63193133 1.33611602 1.83315144 1.44078605 1.59394976]\n",
            " [1.15840854 1.45591537 1.7407798  1.84630093 1.25904683]\n",
            " [1.25152719 1.68255994 1.67603286 1.8672293  1.06282639]\n",
            " [1.73980968 1.26992586 1.97717983 1.83460594 1.85665364]\n",
            " [1.05900988 1.27879886 1.18823106 1.22817724 1.21038681]\n",
            " [1.76990948 1.67942348 1.89461742 1.02558241 1.22045493]\n",
            " [1.81803873 1.78788676 1.95070016 1.336216   1.84858673]\n",
            " [1.7257401  1.71477704 1.45639696 1.40193122 1.25789306]\n",
            " [1.54638452 1.7477156  1.95780716 1.85072275 1.99046537]\n",
            " [1.03130838 1.64247486 1.47171058 1.44070124 1.96837686]\n",
            " [1.76611368 1.84421952 1.71136386 1.22768952 1.07241578]\n",
            " [1.90976763 1.58009319 1.36241615 1.99416978 1.78897354]\n",
            " [1.35737856 1.685687   1.41961511 1.6441174  1.86291649]\n",
            " [1.07013462 1.33732632 1.66693882 1.9638386  1.71205845]\n",
            " [1.68760442 1.21146748 1.57157729 1.44103485 1.41508721]\n",
            " [1.5225574  1.15450223 1.65590562 1.07925048 1.48343264]\n",
            " [1.16553077 1.00299357 1.77053982 1.81562014 1.81556513]\n",
            " [1.45248739 1.68360578 1.84524304 1.10422625 1.45078653]\n",
            " [1.65418479 1.37406806 1.0244846  1.16723138 1.74933615]\n",
            " [1.25517441 1.65525411 1.07233628 1.87165348 1.11181202]]\n",
            "Highest standard deviation column: d\n",
            "Lowest mean row: 4\n"
          ]
        }
      ]
    },
    {
      "cell_type": "markdown",
      "source": [
        "\n",
        "\n",
        "---\n",
        "\n"
      ],
      "metadata": {
        "id": "DkYPgIPnQ7e_"
      }
    },
    {
      "cell_type": "markdown",
      "source": [
        "Q11: Add a new column to the dataframe called “f” which is the sum of the columns “a”, “b”, “c”, “d”, “e”. Create another column called “g”. The value in the column “g” should be “LT8” if the value in the column “f” is less than 8 and “GT8” otherwise. Find the number of rows in the dataframe where the value in the column “g” is “LT8”. Find the standard deviation of the column “f” for the rows where the value in the column “g” is “LT8” and “GT8” respectively."
      ],
      "metadata": {
        "id": "WY2pcM1HQ9Dd"
      }
    },
    {
      "cell_type": "code",
      "source": [
        "# Add the \"f\" column as the sum of columns \"a\", \"b\", \"c\", \"d\", \"e\"\n",
        "df['f'] = df[['a', 'b', 'c', 'd', 'e']].sum(axis=1)\n",
        "\n",
        "# Create the \"g\" column based on the value in \"f\"\n",
        "df['g'] = np.where(df['f'] < 8, 'LT8', 'GT8')\n",
        "\n",
        "# Count rows with \"LT8\" in column \"g\"\n",
        "lt8Count = df[df['g'] == 'LT8'].shape[0]\n",
        "print(\"Number of rows with 'LT8' in 'g':\", lt8Count)\n",
        "# Count rows with \"GT8\" in column \"g\"\n",
        "lt8Count = df[df['g'] == 'GT8'].shape[0]\n",
        "print(\"Number of rows with 'GT8' in 'g':\", lt8Count)\n",
        "\n",
        "# Calculate standard deviations for \"f\" based on \"g\"\n",
        "stdLt8 = df[df['g'] == 'LT8']['f'].std()\n",
        "stdGt8 = df[df['g'] == 'GT8']['f'].std()\n",
        "print(\"Standard deviation of 'f' for 'LT8':\", stdLt8)\n",
        "print(\"Standard deviation of 'f' for 'GT8':\", stdGt8)\n",
        "\n"
      ],
      "metadata": {
        "id": "j3LDY4cFPeMY",
        "colab": {
          "base_uri": "https://localhost:8080/"
        },
        "outputId": "932e4869-3d09-449e-96e2-32bdb627ead9"
      },
      "execution_count": 9,
      "outputs": [
        {
          "output_type": "stream",
          "name": "stdout",
          "text": [
            "Number of rows with 'LT8' in 'g': 16\n",
            "Number of rows with 'GT8' in 'g': 4\n",
            "Standard deviation of 'f' for 'LT8': 0.48513934631363037\n",
            "Standard deviation of 'f' for 'GT8': 0.20863880959253378\n"
          ]
        }
      ]
    },
    {
      "cell_type": "markdown",
      "source": [
        "\n",
        "\n",
        "---\n",
        "\n"
      ],
      "metadata": {
        "id": "arCS_P0NPaBP"
      }
    },
    {
      "cell_type": "markdown",
      "source": [
        "Q12: Write a small piece of code to explain broadcasting in numpy."
      ],
      "metadata": {
        "id": "y-ojWutlS3vj"
      }
    },
    {
      "cell_type": "code",
      "source": [
        "import numpy as np\n",
        "\n",
        "arr1 = np.array([[1, 2, 3]])\n",
        "arr2 = np.array([4, 5, 6])\n",
        "\n",
        "# Multiplication with broadcasting: arr1 is replicated along the new axis\n",
        "result = arr1 + arr2\n",
        "print(result)\n"
      ],
      "metadata": {
        "colab": {
          "base_uri": "https://localhost:8080/"
        },
        "id": "AnbF1E08S5my",
        "outputId": "c099b426-e5ed-4386-a7b4-41854d4de80b"
      },
      "execution_count": 10,
      "outputs": [
        {
          "output_type": "stream",
          "name": "stdout",
          "text": [
            "[[5 7 9]]\n"
          ]
        }
      ]
    },
    {
      "cell_type": "markdown",
      "source": [
        "\n",
        "\n",
        "---\n",
        "\n"
      ],
      "metadata": {
        "id": "1N-dGXo3S7SE"
      }
    },
    {
      "cell_type": "markdown",
      "source": [
        "Q13: Write a function to compute the argmin of a numpy array. The function should take a numpy array as input and return the index of the minimum element. You can use the np.argmin function to verify your solution.\n"
      ],
      "metadata": {
        "id": "Ep5ryCMaTOKa"
      }
    },
    {
      "cell_type": "code",
      "source": [
        "import numpy as np\n",
        "\n",
        "#custom function\n",
        "def my_argmin(arr):\n",
        "    if arr.size == 0:\n",
        "        return None\n",
        "\n",
        "    min_index = 0\n",
        "    min_value = arr[0]\n",
        "\n",
        "    for i in range(1, arr.size):\n",
        "        if arr[i] < min_value:\n",
        "            min_index = i\n",
        "            min_value = arr[i]\n",
        "\n",
        "    return min_index\n",
        "\n",
        "arr = np.array([4, 2, 1, 5, 3])\n",
        "\n",
        "# Get the argmin using the custom function\n",
        "my_argmin_result = my_argmin(arr)\n",
        "\n",
        "# Get the argmin using NumPy's built-in function\n",
        "np_argmin_result = np.argmin(arr)\n",
        "\n",
        "print(\"Custom argmin:\", my_argmin_result)\n",
        "print(\"NumPy argmin:\", np_argmin_result)\n"
      ],
      "metadata": {
        "colab": {
          "base_uri": "https://localhost:8080/"
        },
        "id": "RKJsh1rjTQPc",
        "outputId": "c68af1d2-f4c7-4620-fcfc-c3100fdca043"
      },
      "execution_count": 11,
      "outputs": [
        {
          "output_type": "stream",
          "name": "stdout",
          "text": [
            "Custom argmin: 2\n",
            "NumPy argmin: 2\n"
          ]
        }
      ]
    },
    {
      "cell_type": "markdown",
      "source": [
        "\n",
        "\n",
        "---\n",
        "\n"
      ],
      "metadata": {
        "id": "r86l6wKITQqi"
      }
    },
    {
      "cell_type": "code",
      "source": [],
      "metadata": {
        "id": "UUIXRu6ALUqr"
      },
      "execution_count": 11,
      "outputs": []
    }
  ]
}