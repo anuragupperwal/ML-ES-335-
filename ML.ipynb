{
  "nbformat": 4,
  "nbformat_minor": 0,
  "metadata": {
    "colab": {
      "provenance": []
    },
    "kernelspec": {
      "name": "python3",
      "display_name": "Python 3"
    },
    "language_info": {
      "name": "python"
    }
  },
  "cells": [
    {
      "cell_type": "markdown",
      "source": [
        "<h2>Ques. 1</h2>"
      ],
      "metadata": {
        "id": "sqqBECj0AUz3"
      }
    },
    {
      "cell_type": "markdown",
      "source": [
        "How many multiplications and additions do you need to perform a matrix multiplication between a (n, k) and (k, m) matrix? Explain."
      ],
      "metadata": {
        "id": "Dk5Oddm9Nl7F"
      }
    },
    {
      "cell_type": "markdown",
      "source": [
        "Ans1:\n",
        "  >For matrices $$A = (n, k)$$ and $$B = (k, m) $$we will have the row of A mulitplied with the column of B. This dot product will involve in total k multiplicaton. We will get the resultant matrix $$(n, m)$$ In total there will be n*m elements. for each element there will be k multiplications so in total the number of multiplications will be n*m*k. For each element of the resultant matrix we will have to add up the k multiplications so we will need $$(k-1) $$additions. For the entire matrix total additions will be  $$n*m*(k-1)$$\n",
        "\n",
        "---\n",
        "\n"
      ],
      "metadata": {
        "id": "hv2CArpGOJ_Z"
      }
    },
    {
      "cell_type": "markdown",
      "source": [
        "<h2>Ques. 2</h2>"
      ],
      "metadata": {
        "id": "eTbYr1G2BNZc"
      }
    },
    {
      "cell_type": "markdown",
      "source": [
        "Write Python code to multiply the above two matrices. Solve using list of lists and then use numpy. Compare the timing of both solutions. Which one is faster? Why?"
      ],
      "metadata": {
        "id": "iynCKjINUlJ4"
      }
    },
    {
      "cell_type": "markdown",
      "source": [
        "Ans2:\n",
        ">NumPy uses contiguous allocation of memory which helps in efficient utilization by the CPU as when processing most likely the following data is already ready in the queue to be processed. Whereas, in list the data is scattered in the memory which causes delay.\n",
        " NumPy uses vectorized operations, i.e. it can perform operations on the entire array at once and then there is no need of looping. whereas, in list we need to implement loops in order to access elements separately.  \n",
        "Also, numpy functions are based on C language which is very efficient and fast which maked the numPy faster than list of lists.\n"
      ],
      "metadata": {
        "id": "KYHmS8gOSQT0"
      }
    },
    {
      "cell_type": "code",
      "source": [
        "import time\n",
        "\n",
        "def matrixMulUsingListOfLists(x, y):\n",
        "    n, k = len(x), len(x[0])\n",
        "    k, m = len(y), len(y[0])\n",
        "    res = [[0] * m for _ in range(n)]\n",
        "    for i in range(n):\n",
        "        for j in range(m):\n",
        "            for l in range(k):\n",
        "                res[i][j] += x[i][l] * y[l][j]\n",
        "    return res\n",
        "\n",
        "x = [[1, 2, 3], [4, 5, 6]]\n",
        "y = [[7, 8], [9, 10], [11, 12]]\n",
        "\n",
        "startingTime = time.time()\n",
        "resList = matrixMulUsingListOfLists(x, y)\n",
        "endingTime = time.time()\n",
        "listsTime = endingTime - startingTime\n",
        "print(\"List of lists time:\", listsTime)\n"
      ],
      "metadata": {
        "colab": {
          "base_uri": "https://localhost:8080/"
        },
        "id": "aFoWxgb3Uk2C",
        "outputId": "dd95e334-f4df-4f61-851d-19519fad9b3a"
      },
      "execution_count": 12,
      "outputs": [
        {
          "output_type": "stream",
          "name": "stdout",
          "text": [
            "List of lists time: 6.4849853515625e-05\n"
          ]
        }
      ]
    },
    {
      "cell_type": "code",
      "source": [
        "import numpy as np\n",
        "\n",
        "def matrixMulUsingNumpy(x, y):\n",
        "    return np.matmul(x, y)\n",
        "\n",
        "x_np = np.array(x)\n",
        "y_np = np.array(y)\n",
        "\n",
        "startingTime = time.time()\n",
        "result_numpy = matrixMulUsingNumpy(x_np, y_np)\n",
        "endingTime = time.time()\n",
        "numpyTime = endingTime - startingTime\n",
        "print(\"NumPy time:\", numpyTime)\n"
      ],
      "metadata": {
        "colab": {
          "base_uri": "https://localhost:8080/"
        },
        "id": "nAvv2PUWOI7J",
        "outputId": "dfaf22a1-21b3-49ca-c07f-e67fc25dca10"
      },
      "execution_count": 13,
      "outputs": [
        {
          "output_type": "stream",
          "name": "stdout",
          "text": [
            "NumPy time: 0.00043702125549316406\n"
          ]
        }
      ]
    },
    {
      "cell_type": "markdown",
      "source": [
        "\n",
        "\n",
        "---\n",
        "\n"
      ],
      "metadata": {
        "id": "3Ka1PJ4ATamr"
      }
    },
    {
      "cell_type": "markdown",
      "source": [
        "<h2>Ques. 4</h2>"
      ],
      "metadata": {
        "id": "MzUZxdpkBP6Y"
      }
    },
    {
      "cell_type": "markdown",
      "source": [
        "\n",
        "What is the gradient of the following function with respect to x and y?\n",
        "x^2y + y^3sin(x)"
      ],
      "metadata": {
        "id": "8pVsCs10JXJt"
      }
    },
    {
      "cell_type": "markdown",
      "source": [
        "Ans 4:\n",
        "> $$f = x^2y + y^3sin(x)$$<br>\n",
        "Partial derivative with respect to x: $$\\frac{df}{dx} = 2xy + y^3\\cos(x) $$<br>\n",
        "Partial derivative with respect to x: $$\\frac{df}{dy} = x^2 + 3y^2sin(x) $$<br>\n",
        "Thus, Resultant gradient: $$f(x, y) = 2xy + y^3cos(x), x^2 + 3y^2sin(x)$$<br>\n",
        "Here, x (i.e. the first component) represents the rate of change of function in y direction. And y (i.e. the second component) represents the rate of change of function in y direction.\n",
        "\n",
        "---\n",
        "\n",
        "\n",
        "\n",
        "\n"
      ],
      "metadata": {
        "id": "Lf37YM_6JXDe"
      }
    },
    {
      "cell_type": "markdown",
      "source": [
        "<h2>Ques. 5</h2>"
      ],
      "metadata": {
        "id": "Yo9YZBnkBTmD"
      }
    },
    {
      "cell_type": "markdown",
      "source": [
        "Use JAX to confirm the gradient evaluated by your method matches the analytical solution corresponding to a few random values of x and y"
      ],
      "metadata": {
        "id": "j025KrLeJWz1"
      }
    },
    {
      "cell_type": "code",
      "source": [
        "import jax\n",
        "import jax.numpy as jnp\n",
        "from jax import grad\n",
        "\n",
        "@jax.jit\n",
        "def f(x, y):\n",
        "    return jnp.sum(x**2 * y + y**3 * jnp.sin(x))  # Sum to get a scalar output\n",
        "\n",
        "\n",
        "key = jax.random.PRNGKey(42)  # Set a random seed for reproducibility\n",
        "xVals = jax.random.uniform(key, (5, ))  # Generate 5 random values for x\n",
        "yVals = jax.random.uniform(key, (5, ))  # Generate 5 random values for y\n",
        "\n",
        "#compting gradient\n",
        "gradientF = grad(f)\n",
        "gradientVals = gradientF(xVals, yVals)\n",
        "\n",
        "#analytical gradient\n",
        "analyticalGradVals = jnp.stack([2 * xVals * yVals + yVals**3 * jnp.cos(xVals), xVals**2 + 3 * yVals**2 * jnp.sin(xVals)], axis=1)\n",
        "\n",
        "#results\n",
        "print(\"JAX gradients:\", gradientVals)\n",
        "print(\"Analytical gradients:\", analyticalGradVals)\n"
      ],
      "metadata": {
        "id": "zeAD874GRTn8",
        "colab": {
          "base_uri": "https://localhost:8080/"
        },
        "outputId": "c88a2323-e64c-4e3c-a915-39d788b03469"
      },
      "execution_count": 14,
      "outputs": [
        {
          "output_type": "stream",
          "name": "stdout",
          "text": [
            "JAX gradients: [1.3549877  1.9348412  0.08461008 0.09551075 0.07604416]\n",
            "Analytical gradients: [[1.3549877  1.5980151 ]\n",
            " [1.9348412  2.4866657 ]\n",
            " [0.08461008 0.06118227]\n",
            " [0.09551075 0.07021526]\n",
            " [0.07604416 0.05421515]]\n"
          ]
        }
      ]
    },
    {
      "cell_type": "markdown",
      "source": [
        "\n",
        "\n",
        "---\n",
        "\n"
      ],
      "metadata": {
        "id": "UNq2cKfDLhqw"
      }
    },
    {
      "cell_type": "markdown",
      "source": [
        "<h2>Ques. 7</h2>"
      ],
      "metadata": {
        "id": "DIBEmUzeBVuP"
      }
    },
    {
      "cell_type": "markdown",
      "source": [
        "\n",
        "Create a Python nested dictionary to represent hierarchical information. We want to store record of students and their marks. Something like: ...\n",
        "\n"
      ],
      "metadata": {
        "id": "BoZew8LmUvnv"
      }
    },
    {
      "cell_type": "code",
      "source": [
        "stud_records = {\n",
        "    \"2022\": {\n",
        "        \"Branch 1\": {\n",
        "            \"1\": {\n",
        "                \"Name\": \"N\",\n",
        "                \"Marks\": {\n",
        "                    \"Maths\": 100,\n",
        "                    \"English\": 70,\n",
        "                    # ... other subjects\n",
        "                }\n",
        "            },\n",
        "            # ... Data in Branch 1\n",
        "        },\n",
        "        \"Branch 2\": {\n",
        "            # ... Data Branch 2\n",
        "        }\n",
        "    },\n",
        "    \"2023\": {\n",
        "        # ... Data of bath of 2023\n",
        "    },\n",
        "    \"2024\": {\n",
        "        # ... Data of bath of 2024\n",
        "    },\n",
        "    \"2025\": {\n",
        "        # ... Data of bath of 2025\n",
        "    }\n",
        "}\n"
      ],
      "metadata": {
        "id": "8xv382raU7gc"
      },
      "execution_count": 15,
      "outputs": []
    },
    {
      "cell_type": "markdown",
      "source": [
        "\n",
        "\n",
        "---\n",
        "\n"
      ],
      "metadata": {
        "id": "qDPw9ZU6PLam"
      }
    },
    {
      "cell_type": "markdown",
      "source": [
        "<h2>Ques. 8</h2>"
      ],
      "metadata": {
        "id": "-kfkRJYqBgms"
      }
    },
    {
      "cell_type": "markdown",
      "source": [
        "\n",
        "Store the same information using Python classes. We have an overall database which is a list of year objects. Each year contains a list of branches. Each branch contains a list of students. Each student has some properties like name, roll number and has marks in some subjects."
      ],
      "metadata": {
        "id": "-EZdPWzJUviy"
      }
    },
    {
      "cell_type": "code",
      "source": [
        "class Student:\n",
        "    def __init__(self, name, roll_number, marks):\n",
        "        self.name = name\n",
        "        self.roll_number = roll_number\n",
        "        self.marks = marks\n",
        "\n",
        "class Branch:\n",
        "    def __init__(self, name):\n",
        "        self.name = name\n",
        "        self.students = []\n",
        "\n",
        "    def AddStudent(self, student):\n",
        "        self.students.append(student)\n",
        "\n",
        "class Year:\n",
        "    def __init__(self, year):\n",
        "        self.year = year\n",
        "        self.branches = []\n",
        "\n",
        "    def AddBranch(self, branch):\n",
        "        self.branches.append(branch)\n",
        "\n",
        "class Database:\n",
        "    def __init__(self):\n",
        "        self.years = []\n",
        "\n",
        "    def AddYear(self, year):\n",
        "        self.years.append(year)\n",
        "\n",
        "\n",
        "database = Database()\n",
        "\n",
        "year2023 = Year(2023)\n",
        "branch1 = Branch(\"Branch 1\")\n",
        "branch1.AddStudent(Student(\"N\", 1, {\"Maths\": 99, \"English\": 89}))\n",
        "year2023.AddBranch(branch1)\n",
        "\n",
        "database.AddYear(year2023)\n",
        "\n",
        "#extracting the marks of a student of batch 2023\n",
        "student = database.years[0].branches[0].students[0]\n",
        "print(student.marks[\"Maths\"])\n"
      ],
      "metadata": {
        "colab": {
          "base_uri": "https://localhost:8080/"
        },
        "id": "u7wwPtUaO0E3",
        "outputId": "c4362dc7-8785-45c2-9929-564925bb4c84"
      },
      "execution_count": 16,
      "outputs": [
        {
          "output_type": "stream",
          "name": "stdout",
          "text": [
            "99\n"
          ]
        }
      ]
    },
    {
      "cell_type": "markdown",
      "source": [
        "\n",
        "\n",
        "---\n",
        "\n"
      ],
      "metadata": {
        "id": "JR6xHjE6UvY7"
      }
    },
    {
      "cell_type": "markdown",
      "source": [
        "<h2>Ques. 10</h2>"
      ],
      "metadata": {
        "id": "Z2fwfZbZBj-y"
      }
    },
    {
      "cell_type": "markdown",
      "source": [
        "\n",
        " Using numpy generate a matrix of size 20X5 containing random numbers drawn uniformly from the range of 1 to 2. Using Pandas create a dataframe out of this matrix. Name the columns of the dataframe as “a”, “b”, “c”, “d”, “e”. Find the column with the highest standard deviation. Find the row with the lowest mean."
      ],
      "metadata": {
        "id": "ZlC6-QqiNoyX"
      }
    },
    {
      "cell_type": "code",
      "source": [
        "import numpy as np\n",
        "import pandas as pd\n",
        "\n",
        "# Generate matrix with random vals between 1 and 2\n",
        "randomMatrix = np.random.uniform(low=1, high=2, size=(20, 5))\n",
        "print(randomMatrix)\n",
        "\n",
        "# Create the DataFrame from the NumPy matrix\n",
        "df = pd.DataFrame(randomMatrix, columns=['a', 'b', 'c', 'd', 'e'])\n",
        "\n",
        "# Find the column with the highest standard deviation\n",
        "colHighestSD = df.std().idxmax()\n",
        "print(\"Highest standard deviation column:\", colHighestSD)\n",
        "\n",
        "# Find the row with the lowest mean\n",
        "rowLowestMean = df.mean(axis=1).idxmin()\n",
        "print(\"Lowest mean row:\", rowLowestMean)\n",
        "\n"
      ],
      "metadata": {
        "id": "44O-cu1XPeY5",
        "colab": {
          "base_uri": "https://localhost:8080/"
        },
        "outputId": "48712b7b-d99f-4c26-8628-d435f6de233b"
      },
      "execution_count": 17,
      "outputs": [
        {
          "output_type": "stream",
          "name": "stdout",
          "text": [
            "[[1.66304878 1.13911508 1.04422968 1.65070831 1.07003681]\n",
            " [1.13679532 1.7023191  1.52876849 1.53719264 1.7857662 ]\n",
            " [1.16358544 1.1178276  1.37175879 1.31630976 1.80658079]\n",
            " [1.76861584 1.21253264 1.918253   1.3267833  1.17406445]\n",
            " [1.9984527  1.79077588 1.54933899 1.87970686 1.42117302]\n",
            " [1.00720584 1.13350709 1.38659159 1.82729015 1.47270715]\n",
            " [1.31753216 1.38644519 1.98265705 1.12887224 1.28566521]\n",
            " [1.19915858 1.23388017 1.52333698 1.13376747 1.29392386]\n",
            " [1.22431628 1.76969085 1.15300365 1.2759337  1.76677067]\n",
            " [1.03540973 1.73827619 1.99426417 1.98400442 1.49215645]\n",
            " [1.01597939 1.69209258 1.86502994 1.55192748 1.75170022]\n",
            " [1.33628114 1.2394106  1.22086673 1.96152199 1.74888952]\n",
            " [1.44278561 1.05749669 1.53532855 1.09012839 1.9160371 ]\n",
            " [1.31982049 1.99475487 1.1229473  1.67786589 1.57661618]\n",
            " [1.46957406 1.4781374  1.74819746 1.64002471 1.6025258 ]\n",
            " [1.61543698 1.49778912 1.8430717  1.13429605 1.90063948]\n",
            " [1.80625477 1.27614646 1.19119477 1.42059461 1.6597885 ]\n",
            " [1.14610112 1.4836727  1.85829573 1.67150985 1.05596643]\n",
            " [1.02528857 1.97489304 1.11626039 1.17463155 1.63281668]\n",
            " [1.40020915 1.05273275 1.93406523 1.78806295 1.29517843]]\n",
            "Highest standard deviation column: c\n",
            "Lowest mean row: 7\n"
          ]
        }
      ]
    },
    {
      "cell_type": "markdown",
      "source": [
        "\n",
        "\n",
        "---\n",
        "\n"
      ],
      "metadata": {
        "id": "DkYPgIPnQ7e_"
      }
    },
    {
      "cell_type": "markdown",
      "source": [
        "<h2>Ques. 11</h2>"
      ],
      "metadata": {
        "id": "xRj4KlpEBm3q"
      }
    },
    {
      "cell_type": "markdown",
      "source": [
        "\n",
        "Add a new column to the dataframe called “f” which is the sum of the columns “a”, “b”, “c”, “d”, “e”. Create another column called “g”. The value in the column “g” should be “LT8” if the value in the column “f” is less than 8 and “GT8” otherwise. Find the number of rows in the dataframe where the value in the column “g” is “LT8”. Find the standard deviation of the column “f” for the rows where the value in the column “g” is “LT8” and “GT8” respectively."
      ],
      "metadata": {
        "id": "WY2pcM1HQ9Dd"
      }
    },
    {
      "cell_type": "code",
      "source": [
        "# Add the \"f\" column as the sum of columns \"a\", \"b\", \"c\", \"d\", \"e\"\n",
        "df['f'] = df[['a', 'b', 'c', 'd', 'e']].sum(axis=1)\n",
        "\n",
        "# Create the \"g\" column based on the value in \"f\"\n",
        "df['g'] = np.where(df['f'] < 8, 'LT8', 'GT8')\n",
        "\n",
        "# Count rows with \"LT8\" in column \"g\"\n",
        "lt8Count = df[df['g'] == 'LT8'].shape[0]\n",
        "print(\"Number of rows with 'LT8' in 'g':\", lt8Count)\n",
        "# Count rows with \"GT8\" in column \"g\"\n",
        "lt8Count = df[df['g'] == 'GT8'].shape[0]\n",
        "print(\"Number of rows with 'GT8' in 'g':\", lt8Count)\n",
        "\n",
        "# Calculate standard deviations for \"f\" based on \"g\"\n",
        "stdLt8 = df[df['g'] == 'LT8']['f'].std()\n",
        "stdGt8 = df[df['g'] == 'GT8']['f'].std()\n",
        "print(\"Standard deviation of 'f' for 'LT8':\", stdLt8)\n",
        "print(\"Standard deviation of 'f' for 'GT8':\", stdGt8)\n",
        "\n"
      ],
      "metadata": {
        "id": "j3LDY4cFPeMY",
        "colab": {
          "base_uri": "https://localhost:8080/"
        },
        "outputId": "c020e375-39c2-438a-f6de-aafb77ca6b48"
      },
      "execution_count": 18,
      "outputs": [
        {
          "output_type": "stream",
          "name": "stdout",
          "text": [
            "Number of rows with 'LT8' in 'g': 18\n",
            "Number of rows with 'GT8' in 'g': 2\n",
            "Standard deviation of 'f' for 'LT8': 0.46896748943881633\n",
            "Standard deviation of 'f' for 'GT8': 0.27954509985344\n"
          ]
        }
      ]
    },
    {
      "cell_type": "markdown",
      "source": [
        "\n",
        "\n",
        "---\n",
        "\n"
      ],
      "metadata": {
        "id": "arCS_P0NPaBP"
      }
    },
    {
      "cell_type": "markdown",
      "source": [
        "<h2>Ques. 12</h2>"
      ],
      "metadata": {
        "id": "0fzbvdHzBqc0"
      }
    },
    {
      "cell_type": "markdown",
      "source": [
        " Write a small piece of code to explain broadcasting in numpy."
      ],
      "metadata": {
        "id": "y-ojWutlS3vj"
      }
    },
    {
      "cell_type": "code",
      "source": [
        "import numpy as np\n",
        "\n",
        "arr1 = np.array([[1, 2, 3]])\n",
        "arr2 = np.array([4, 5, 6])\n",
        "\n",
        "# Multiplication with broadcasting: arr1 is replicated along the new axis\n",
        "result = arr1 + arr2\n",
        "print(result)\n"
      ],
      "metadata": {
        "colab": {
          "base_uri": "https://localhost:8080/"
        },
        "id": "AnbF1E08S5my",
        "outputId": "258aace2-a625-464d-d68b-dedba0f65a17"
      },
      "execution_count": 19,
      "outputs": [
        {
          "output_type": "stream",
          "name": "stdout",
          "text": [
            "[[5 7 9]]\n"
          ]
        }
      ]
    },
    {
      "cell_type": "markdown",
      "source": [
        "\n",
        "\n",
        "---\n",
        "\n"
      ],
      "metadata": {
        "id": "1N-dGXo3S7SE"
      }
    },
    {
      "cell_type": "markdown",
      "source": [
        "<h2>Ques. 13</h2>"
      ],
      "metadata": {
        "id": "1NXZpKA7BtN4"
      }
    },
    {
      "cell_type": "markdown",
      "source": [
        "Write a function to compute the argmin of a numpy array. The function should take a numpy array as input and return the index of the minimum element. You can use the np.argmin function to verify your solution.\n"
      ],
      "metadata": {
        "id": "Ep5ryCMaTOKa"
      }
    },
    {
      "cell_type": "code",
      "source": [
        "import numpy as np\n",
        "\n",
        "#custom function\n",
        "def my_argmin(arr):\n",
        "    if arr.size == 0:\n",
        "        return None\n",
        "\n",
        "    min_index = 0\n",
        "    min_value = arr[0]\n",
        "\n",
        "    for i in range(1, arr.size):\n",
        "        if arr[i] < min_value:\n",
        "            min_index = i\n",
        "            min_value = arr[i]\n",
        "\n",
        "    return min_index\n",
        "\n",
        "arr = np.array([4, 2, 1, 5, 3])\n",
        "\n",
        "# Get the argmin using the custom function\n",
        "my_argmin_result = my_argmin(arr)\n",
        "\n",
        "# Get the argmin using NumPy's built-in function\n",
        "np_argmin_result = np.argmin(arr)\n",
        "\n",
        "print(\"Custom argmin:\", my_argmin_result)\n",
        "print(\"NumPy argmin:\", np_argmin_result)\n"
      ],
      "metadata": {
        "colab": {
          "base_uri": "https://localhost:8080/"
        },
        "id": "RKJsh1rjTQPc",
        "outputId": "d1008f1d-3264-4428-d981-3bfa4b2788a4"
      },
      "execution_count": 20,
      "outputs": [
        {
          "output_type": "stream",
          "name": "stdout",
          "text": [
            "Custom argmin: 2\n",
            "NumPy argmin: 2\n"
          ]
        }
      ]
    },
    {
      "cell_type": "markdown",
      "source": [
        "\n",
        "\n",
        "---\n",
        "\n"
      ],
      "metadata": {
        "id": "r86l6wKITQqi"
      }
    }
  ]
}