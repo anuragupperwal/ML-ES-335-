{
  "nbformat": 4,
  "nbformat_minor": 0,
  "metadata": {
    "colab": {
      "provenance": []
    },
    "kernelspec": {
      "name": "python3",
      "display_name": "Python 3"
    },
    "language_info": {
      "name": "python"
    }
  },
  "cells": [
    {
      "cell_type": "markdown",
      "source": [
        "<h2>Ques. 1</h2>"
      ],
      "metadata": {
        "id": "sqqBECj0AUz3"
      }
    },
    {
      "cell_type": "markdown",
      "source": [
        "How many multiplications and additions do you need to perform a matrix multiplication between a (n, k) and (k, m) matrix? Explain."
      ],
      "metadata": {
        "id": "Dk5Oddm9Nl7F"
      }
    },
    {
      "cell_type": "markdown",
      "source": [
        "Ans1:\n",
        "  >For matrices $$A = (n, k)$$ and $$B = (k, m) $$we will have the row of A mulitplied with the column of B. This dot product will involve in total k multiplicaton. We will get the resultant matrix $$(n, m)$$ In total there will be n*m elements. for each element there will be k multiplications so in total the number of multiplications will be n*m*k. For each element of the resultant matrix we will have to add up the k multiplications so we will need $$(k-1) $$additions. For the entire matrix total additions will be  $$n*m*(k-1)$$\n",
        "\n",
        "---\n",
        "\n"
      ],
      "metadata": {
        "id": "hv2CArpGOJ_Z"
      }
    },
    {
      "cell_type": "markdown",
      "source": [
        "<h2>Ques. 2</h2>"
      ],
      "metadata": {
        "id": "eTbYr1G2BNZc"
      }
    },
    {
      "cell_type": "markdown",
      "source": [
        "Write Python code to multiply the above two matrices. Solve using list of lists and then use numpy. Compare the timing of both solutions. Which one is faster? Why?"
      ],
      "metadata": {
        "id": "iynCKjINUlJ4"
      }
    },
    {
      "cell_type": "markdown",
      "source": [
        "Ans2:\n",
        ">NumPy uses contiguous allocation of memory which helps in efficient utilization by the CPU as when processing most likely the following data is already ready in the queue to be processed. Whereas, in list the data is scattered in the memory which causes delay.\n",
        " NumPy uses vectorized operations, i.e. it can perform operations on the entire array at once and then there is no need of looping. whereas, in list we need to implement loops in order to access elements separately.  \n",
        "Also, numpy functions are based on C language which is very efficient and fast which maked the numPy faster than list of lists.\n"
      ],
      "metadata": {
        "id": "KYHmS8gOSQT0"
      }
    },
    {
      "cell_type": "code",
      "source": [
        "import time\n",
        "\n",
        "def matrixMulUsingListOfLists(x, y):\n",
        "    n, k = len(x), len(x[0])\n",
        "    k, m = len(y), len(y[0])\n",
        "    res = [[0] * m for _ in range(n)]\n",
        "    for i in range(n):\n",
        "        for j in range(m):\n",
        "            for l in range(k):\n",
        "                res[i][j] += x[i][l] * y[l][j]\n",
        "    return res\n",
        "\n",
        "x = [[1, 2, 3], [4, 5, 6]]\n",
        "y = [[7, 8], [9, 10], [11, 12]]\n",
        "\n",
        "startingTime = time.time()\n",
        "resList = matrixMulUsingListOfLists(x, y)\n",
        "endingTime = time.time()\n",
        "listsTime = endingTime - startingTime\n",
        "print(\"List of lists time:\", listsTime)\n"
      ],
      "metadata": {
        "colab": {
          "base_uri": "https://localhost:8080/"
        },
        "id": "aFoWxgb3Uk2C",
        "outputId": "5131c675-4913-4b9b-8c5f-75e6407f6fdf"
      },
      "execution_count": 54,
      "outputs": [
        {
          "output_type": "stream",
          "name": "stdout",
          "text": [
            "List of lists time: 0.00010561943054199219\n"
          ]
        }
      ]
    },
    {
      "cell_type": "code",
      "source": [
        "import numpy as np\n",
        "\n",
        "def matrixMulUsingNumpy(x, y):\n",
        "    return np.matmul(x, y)\n",
        "\n",
        "x_np = np.array(x)\n",
        "y_np = np.array(y)\n",
        "\n",
        "startingTime = time.time()\n",
        "result_numpy = matrixMulUsingNumpy(x_np, y_np)\n",
        "endingTime = time.time()\n",
        "numpyTime = endingTime - startingTime\n",
        "print(\"NumPy time:\", numpyTime)\n"
      ],
      "metadata": {
        "colab": {
          "base_uri": "https://localhost:8080/"
        },
        "id": "nAvv2PUWOI7J",
        "outputId": "bdd5a1da-f983-45f6-b95f-38849794f9b7"
      },
      "execution_count": 55,
      "outputs": [
        {
          "output_type": "stream",
          "name": "stdout",
          "text": [
            "NumPy time: 0.00013303756713867188\n"
          ]
        }
      ]
    },
    {
      "cell_type": "markdown",
      "source": [
        "\n",
        "\n",
        "---\n",
        "\n"
      ],
      "metadata": {
        "id": "3Ka1PJ4ATamr"
      }
    },
    {
      "cell_type": "markdown",
      "source": [
        "<h2>Ques. 4</h2>"
      ],
      "metadata": {
        "id": "MzUZxdpkBP6Y"
      }
    },
    {
      "cell_type": "markdown",
      "source": [
        "\n",
        "What is the gradient of the following function with respect to x and y?\n",
        "x^2y + y^3sin(x)"
      ],
      "metadata": {
        "id": "8pVsCs10JXJt"
      }
    },
    {
      "cell_type": "markdown",
      "source": [
        "Ans 4:\n",
        "> $$f = x^2y + y^3sin(x)$$<br>\n",
        "Partial derivative with respect to x: $$\\frac{df}{dx} = 2xy + y^3\\cos(x) $$<br>\n",
        "Partial derivative with respect to x: $$\\frac{df}{dy} = x^2 + 3y^2sin(x) $$<br>\n",
        "Thus, Resultant gradient: $$f(x, y) = 2xy + y^3cos(x), x^2 + 3y^2sin(x)$$<br>\n",
        "Here, x (i.e. the first component) represents the rate of change of function in y direction. And y (i.e. the second component) represents the rate of change of function in y direction.\n",
        "\n",
        "---\n",
        "\n",
        "\n",
        "\n",
        "\n"
      ],
      "metadata": {
        "id": "Lf37YM_6JXDe"
      }
    },
    {
      "cell_type": "markdown",
      "source": [
        "<h2>Ques. 5</h2>"
      ],
      "metadata": {
        "id": "Yo9YZBnkBTmD"
      }
    },
    {
      "cell_type": "markdown",
      "source": [
        "Use JAX to confirm the gradient evaluated by your method matches the analytical solution corresponding to a few random values of x and y"
      ],
      "metadata": {
        "id": "j025KrLeJWz1"
      }
    },
    {
      "cell_type": "code",
      "source": [
        "import jax\n",
        "import jax.numpy as jnp\n",
        "from jax import grad\n",
        "\n",
        "@jax.jit\n",
        "def f(x, y):\n",
        "    return jnp.sum(x**2 * y + y**3 * jnp.sin(x))  # Sum to get a scalar output\n",
        "\n",
        "\n",
        "key = jax.random.PRNGKey(42)  # Set a random seed for reproducibility\n",
        "xVals = jax.random.uniform(key, (5, ))  # Generate 5 random values for x\n",
        "yVals = jax.random.uniform(key, (5, ))  # Generate 5 random values for y\n",
        "\n",
        "#compting gradient\n",
        "gradientF = grad(f)\n",
        "gradientVals = gradientF(xVals, yVals)\n",
        "\n",
        "#analytical gradient\n",
        "analyticalGradVals = jnp.stack([2 * xVals * yVals + yVals**3 * jnp.cos(xVals), xVals**2 + 3 * yVals**2 * jnp.sin(xVals)], axis=1)\n",
        "\n",
        "#results\n",
        "print(\"JAX gradients:\", gradientVals)\n",
        "print(\"Analytical gradients:\", analyticalGradVals)\n"
      ],
      "metadata": {
        "id": "zeAD874GRTn8",
        "colab": {
          "base_uri": "https://localhost:8080/"
        },
        "outputId": "f7e867b4-0d26-49a2-e18d-7b4851f6ad35"
      },
      "execution_count": 56,
      "outputs": [
        {
          "output_type": "stream",
          "name": "stdout",
          "text": [
            "JAX gradients: [1.3549877  1.9348412  0.08461008 0.09551075 0.07604416]\n",
            "Analytical gradients: [[1.3549877  1.5980151 ]\n",
            " [1.9348412  2.4866657 ]\n",
            " [0.08461008 0.06118227]\n",
            " [0.09551075 0.07021526]\n",
            " [0.07604416 0.05421515]]\n"
          ]
        }
      ]
    },
    {
      "cell_type": "markdown",
      "source": [
        "\n",
        "\n",
        "---\n",
        "\n"
      ],
      "metadata": {
        "id": "UNq2cKfDLhqw"
      }
    },
    {
      "cell_type": "markdown",
      "source": [
        "<h2>Ques. 7</h2>"
      ],
      "metadata": {
        "id": "DIBEmUzeBVuP"
      }
    },
    {
      "cell_type": "markdown",
      "source": [
        "\n",
        "Create a Python nested dictionary to represent hierarchical information. We want to store record of students and their marks. Something like: ...\n",
        "\n"
      ],
      "metadata": {
        "id": "BoZew8LmUvnv"
      }
    },
    {
      "cell_type": "code",
      "source": [
        "stud_records = {\n",
        "    \"2022\": {\n",
        "        \"Branch 1\": {\n",
        "            \"1\": {\n",
        "                \"Name\": \"N\",\n",
        "                \"Marks\": {\n",
        "                    \"Maths\": 100,\n",
        "                    \"English\": 70,\n",
        "                    # ... other subjects\n",
        "                }\n",
        "            },\n",
        "            # ... Data in Branch 1\n",
        "        },\n",
        "        \"Branch 2\": {\n",
        "            # ... Data Branch 2\n",
        "        }\n",
        "    },\n",
        "    \"2023\": {\n",
        "        # ... Data of bath of 2023\n",
        "    },\n",
        "    \"2024\": {\n",
        "        # ... Data of bath of 2024\n",
        "    },\n",
        "    \"2025\": {\n",
        "        # ... Data of bath of 2025\n",
        "    }\n",
        "}\n"
      ],
      "metadata": {
        "id": "8xv382raU7gc"
      },
      "execution_count": 57,
      "outputs": []
    },
    {
      "cell_type": "markdown",
      "source": [
        "\n",
        "\n",
        "---\n",
        "\n"
      ],
      "metadata": {
        "id": "qDPw9ZU6PLam"
      }
    },
    {
      "cell_type": "markdown",
      "source": [
        "<h2>Ques. 8</h2>"
      ],
      "metadata": {
        "id": "-kfkRJYqBgms"
      }
    },
    {
      "cell_type": "markdown",
      "source": [
        "\n",
        "Store the same information using Python classes. We have an overall database which is a list of year objects. Each year contains a list of branches. Each branch contains a list of students. Each student has some properties like name, roll number and has marks in some subjects."
      ],
      "metadata": {
        "id": "-EZdPWzJUviy"
      }
    },
    {
      "cell_type": "code",
      "source": [
        "class Student:\n",
        "    def __init__(self, name, roll_number, marks):\n",
        "        self.name = name\n",
        "        self.roll_number = roll_number\n",
        "        self.marks = marks\n",
        "\n",
        "class Branch:\n",
        "    def __init__(self, name):\n",
        "        self.name = name\n",
        "        self.students = []\n",
        "\n",
        "    def AddStudent(self, student):\n",
        "        self.students.append(student)\n",
        "\n",
        "class Year:\n",
        "    def __init__(self, year):\n",
        "        self.year = year\n",
        "        self.branches = []\n",
        "\n",
        "    def AddBranch(self, branch):\n",
        "        self.branches.append(branch)\n",
        "\n",
        "class Database:\n",
        "    def __init__(self):\n",
        "        self.years = []\n",
        "\n",
        "    def AddYear(self, year):\n",
        "        self.years.append(year)\n",
        "\n",
        "\n",
        "database = Database()\n",
        "\n",
        "year2023 = Year(2023)\n",
        "branch1 = Branch(\"Branch 1\")\n",
        "branch1.AddStudent(Student(\"N\", 1, {\"Maths\": 99, \"English\": 89}))\n",
        "year2023.AddBranch(branch1)\n",
        "\n",
        "database.AddYear(year2023)\n",
        "\n",
        "#extracting the marks of a student of batch 2023\n",
        "student = database.years[0].branches[0].students[0]\n",
        "print(student.marks[\"Maths\"])\n"
      ],
      "metadata": {
        "colab": {
          "base_uri": "https://localhost:8080/"
        },
        "id": "u7wwPtUaO0E3",
        "outputId": "2a808fec-416b-47a7-b46c-28226f24367b"
      },
      "execution_count": 58,
      "outputs": [
        {
          "output_type": "stream",
          "name": "stdout",
          "text": [
            "99\n"
          ]
        }
      ]
    },
    {
      "cell_type": "markdown",
      "source": [
        "\n",
        "\n",
        "---\n",
        "\n"
      ],
      "metadata": {
        "id": "JR6xHjE6UvY7"
      }
    },
    {
      "cell_type": "markdown",
      "source": [
        "<h2>Ques. 9</h2>"
      ],
      "metadata": {
        "id": "Pn2o1MdVJkq3"
      }
    },
    {
      "cell_type": "markdown",
      "source": [
        "Using matplotlib plot the following functions on the domain: x = 0.5 to 100.0 in steps of 0.5.\n",
        "$$y=x$$\n",
        "$$y=x^2$$\n",
        "$$y=\\frac{x^3}{100}$$\n",
        "$$y=sin(x)$$\n",
        "$$y=\\frac{sin(x)}{x}$$\n",
        "$$y=log(x)$$\n",
        "$$y=e^x$$"
      ],
      "metadata": {
        "id": "PeH175jkJqca"
      }
    },
    {
      "cell_type": "code",
      "source": [
        "import matplotlib.pyplot as plt\n",
        "import numpy as np\n",
        "\n",
        "# Create an array of x values from 0 to 2*pi\n",
        "x = np.linspace(0, 2 * np.pi, 100)\n",
        "\n",
        "# Define the functions\n",
        "y1 = x\n",
        "y2 = x**2\n",
        "y3 = x**3 / 100\n",
        "\n",
        "\n",
        "# Title and labels\n",
        "plt.plot(x, y1, label='y = x', color='blue')\n",
        "plt.plot(x, y2, label='y = x^2', color='green', linestyle='--')\n",
        "plt.plot(x, y3, label='y = x^3 / 100', color='orange', linewidth=2)\n",
        "\n",
        "\n",
        "plt.xlabel('x')\n",
        "plt.ylabel('y')\n",
        "\n",
        "# Show the legend\n",
        "plt.legend()\n",
        "\n",
        "# Show the plot\n",
        "plt.show()\n",
        "\n"
      ],
      "metadata": {
        "colab": {
          "base_uri": "https://localhost:8080/",
          "height": 449
        },
        "id": "_8PHYE6ZKUo5",
        "outputId": "e7c94cea-7a0f-49d8-d444-13c166c0d4d4"
      },
      "execution_count": 59,
      "outputs": [
        {
          "output_type": "display_data",
          "data": {
            "text/plain": [
              "<Figure size 640x480 with 1 Axes>"
            ],
            "image/png": "[encoded data removed]"
          },
          "metadata": {}
        }
      ]
    },
    {
      "cell_type": "code",
      "source": [
        "import matplotlib.pyplot as plt\n",
        "import numpy as np\n",
        "\n",
        "# Create an array of x values from 0 to 2*pi\n",
        "x = np.linspace(0, 2 * np.pi, 100)\n",
        "\n",
        "# Calculate the sine of each x value\n",
        "y1 = np.sin(x)\n",
        "y2 = np.sin(x) / x\n",
        "y6 = np.log(x)\n",
        "\n",
        "\n",
        "# Title and labels\n",
        "plt.plot(x, y1, label='y = sin(x)', color='purple')\n",
        "plt.plot(x, y2, label='y = sin(x) / x', color='red', linestyle=':')\n",
        "plt.plot(x, y6, label='y = log(x)', color='brown', linewidth=3)\n",
        "\n",
        "plt.xlabel('x')\n",
        "plt.ylabel('y')\n",
        "\n",
        "# Show the legend\n",
        "plt.legend()\n",
        "\n",
        "# Show the plot\n",
        "plt.show()\n"
      ],
      "metadata": {
        "colab": {
          "base_uri": "https://localhost:8080/",
          "height": 521
        },
        "id": "pnvm4y9-LIu_",
        "outputId": "0606620d-dc3f-435c-829d-b203c2984643"
      },
      "execution_count": 66,
      "outputs": [
        {
          "output_type": "stream",
          "name": "stderr",
          "text": [
            "<ipython-input-66-5158c31c0292>:9: RuntimeWarning: invalid value encountered in divide\n",
            "  y2 = np.sin(x) / x\n",
            "<ipython-input-66-5158c31c0292>:10: RuntimeWarning: divide by zero encountered in log\n",
            "  y6 = np.log(x)\n"
          ]
        },
        {
          "output_type": "display_data",
          "data": {
            "text/plain": [
              "<Figure size 640x480 with 1 Axes>"
            ],
            "image/png": "[encoded data removed]"
          },
          "metadata": {}
        }
      ]
    },
    {
      "cell_type": "code",
      "source": [
        "import matplotlib.pyplot as plt\n",
        "import numpy as np\n",
        "\n",
        "# Create an array of x values from 0 to 2*pi\n",
        "x = np.linspace(0, 2 * np.pi, 100)\n",
        "\n",
        "# Calculate the sine of each x value\n",
        "y = np.exp(x)\n",
        "\n",
        "\n",
        "# Title and labels\n",
        "plt.plot(x, y, label='y = e^x', color='black', linestyle='-.')\n",
        "\n",
        "plt.xlabel('x')\n",
        "plt.ylabel('y')\n",
        "\n",
        "# Show the legend\n",
        "plt.legend()\n",
        "\n",
        "# Show the plot\n",
        "plt.show()\n"
      ],
      "metadata": {
        "colab": {
          "base_uri": "https://localhost:8080/",
          "height": 449
        },
        "id": "_4yiKyQ9M192",
        "outputId": "1814ec4f-4dc6-463e-a64c-27c21649a03a"
      },
      "execution_count": 61,
      "outputs": [
        {
          "output_type": "display_data",
          "data": {
            "text/plain": [
              "<Figure size 640x480 with 1 Axes>"
            ],
            "image/png": "[encoded data removed]"
          },
          "metadata": {}
        }
      ]
    },
    {
      "cell_type": "markdown",
      "source": [
        "\n",
        "\n",
        "---\n",
        "\n"
      ],
      "metadata": {
        "id": "rP09l9FiJpGs"
      }
    },
    {
      "cell_type": "markdown",
      "source": [
        "<h2>Ques. 10</h2>"
      ],
      "metadata": {
        "id": "Z2fwfZbZBj-y"
      }
    },
    {
      "cell_type": "markdown",
      "source": [
        "\n",
        " Using numpy generate a matrix of size 20X5 containing random numbers drawn uniformly from the range of 1 to 2. Using Pandas create a dataframe out of this matrix. Name the columns of the dataframe as “a”, “b”, “c”, “d”, “e”. Find the column with the highest standard deviation. Find the row with the lowest mean."
      ],
      "metadata": {
        "id": "ZlC6-QqiNoyX"
      }
    },
    {
      "cell_type": "code",
      "source": [
        "import numpy as np\n",
        "import pandas as pd\n",
        "\n",
        "# Generate matrix with random vals between 1 and 2\n",
        "randomMatrix = np.random.uniform(low=1, high=2, size=(20, 5))\n",
        "print(randomMatrix)\n",
        "\n",
        "# Create the DataFrame from the NumPy matrix\n",
        "df = pd.DataFrame(randomMatrix, columns=['a', 'b', 'c', 'd', 'e'])\n",
        "\n",
        "# Find the column with the highest standard deviation\n",
        "colHighestSD = df.std().idxmax()\n",
        "print(\"Highest standard deviation column:\", colHighestSD)\n",
        "\n",
        "# Find the row with the lowest mean\n",
        "rowLowestMean = df.mean(axis=1).idxmin()\n",
        "print(\"Lowest mean row:\", rowLowestMean)\n",
        "\n"
      ],
      "metadata": {
        "id": "44O-cu1XPeY5",
        "colab": {
          "base_uri": "https://localhost:8080/"
        },
        "outputId": "732adaae-c70e-473f-885c-836efe678bc3"
      },
      "execution_count": 62,
      "outputs": [
        {
          "output_type": "stream",
          "name": "stdout",
          "text": [
            "[[1.85216255 1.36962577 1.10949163 1.3636067  1.70804706]\n",
            " [1.11452008 1.07768747 1.8013942  1.78721157 1.12348856]\n",
            " [1.50058066 1.99303136 1.38123915 1.66187285 1.09800815]\n",
            " [1.40984598 1.56317022 1.23760963 1.02271176 1.71647414]\n",
            " [1.74044553 1.48694898 1.57213596 1.90545357 1.53405777]\n",
            " [1.95675027 1.66377738 1.65094644 1.46756172 1.791821  ]\n",
            " [1.80461181 1.39887993 1.62979239 1.58259478 1.30229852]\n",
            " [1.22081671 1.42175309 1.89822639 1.54420585 1.54781127]\n",
            " [1.80640799 1.04859803 1.02425367 1.96677911 1.8204697 ]\n",
            " [1.66047236 1.13876526 1.62961922 1.98641799 1.92873703]\n",
            " [1.03012162 1.3882577  1.08036985 1.89743978 1.57626482]\n",
            " [1.62507162 1.14477932 1.4337826  1.1201488  1.1936224 ]\n",
            " [1.23876609 1.28931978 1.78970638 1.47748072 1.00632419]\n",
            " [1.94228505 1.45500445 1.39043043 1.36816583 1.20137261]\n",
            " [1.43634848 1.06390249 1.58437011 1.40568095 1.56479541]\n",
            " [1.76274232 1.74628987 1.87772215 1.55086925 1.49104717]\n",
            " [1.44199023 1.53484701 1.6260013  1.11195022 1.814924  ]\n",
            " [1.35020795 1.06539508 1.9864801  1.49163922 1.67350883]\n",
            " [1.32772714 1.99897755 1.07759361 1.62153114 1.31742889]\n",
            " [1.17970445 1.89513    1.18159343 1.34248147 1.64738005]]\n",
            "Highest standard deviation column: b\n",
            "Lowest mean row: 11\n"
          ]
        }
      ]
    },
    {
      "cell_type": "markdown",
      "source": [
        "\n",
        "\n",
        "---\n",
        "\n"
      ],
      "metadata": {
        "id": "DkYPgIPnQ7e_"
      }
    },
    {
      "cell_type": "markdown",
      "source": [
        "<h2>Ques. 11</h2>"
      ],
      "metadata": {
        "id": "xRj4KlpEBm3q"
      }
    },
    {
      "cell_type": "markdown",
      "source": [
        "\n",
        "Add a new column to the dataframe called “f” which is the sum of the columns “a”, “b”, “c”, “d”, “e”. Create another column called “g”. The value in the column “g” should be “LT8” if the value in the column “f” is less than 8 and “GT8” otherwise. Find the number of rows in the dataframe where the value in the column “g” is “LT8”. Find the standard deviation of the column “f” for the rows where the value in the column “g” is “LT8” and “GT8” respectively."
      ],
      "metadata": {
        "id": "WY2pcM1HQ9Dd"
      }
    },
    {
      "cell_type": "code",
      "source": [
        "# Add the \"f\" column as the sum of columns \"a\", \"b\", \"c\", \"d\", \"e\"\n",
        "df['f'] = df[['a', 'b', 'c', 'd', 'e']].sum(axis=1)\n",
        "\n",
        "# Create the \"g\" column based on the value in \"f\"\n",
        "df['g'] = np.where(df['f'] < 8, 'LT8', 'GT8')\n",
        "\n",
        "# Count rows with \"LT8\" in column \"g\"\n",
        "lt8Count = df[df['g'] == 'LT8'].shape[0]\n",
        "print(\"Number of rows with 'LT8' in 'g':\", lt8Count)\n",
        "# Count rows with \"GT8\" in column \"g\"\n",
        "lt8Count = df[df['g'] == 'GT8'].shape[0]\n",
        "print(\"Number of rows with 'GT8' in 'g':\", lt8Count)\n",
        "\n",
        "# Calculate standard deviations for \"f\" based on \"g\"\n",
        "stdLt8 = df[df['g'] == 'LT8']['f'].std()\n",
        "stdGt8 = df[df['g'] == 'GT8']['f'].std()\n",
        "print(\"Standard deviation of 'f' for 'LT8':\", stdLt8)\n",
        "print(\"Standard deviation of 'f' for 'GT8':\", stdGt8)\n",
        "\n"
      ],
      "metadata": {
        "id": "j3LDY4cFPeMY",
        "colab": {
          "base_uri": "https://localhost:8080/"
        },
        "outputId": "e07c79e0-ada7-4c8f-9dbc-4520fe70efac"
      },
      "execution_count": 63,
      "outputs": [
        {
          "output_type": "stream",
          "name": "stdout",
          "text": [
            "Number of rows with 'LT8' in 'g': 16\n",
            "Number of rows with 'GT8' in 'g': 4\n",
            "Standard deviation of 'f' for 'LT8': 0.3620776905138362\n",
            "Standard deviation of 'f' for 'GT8': 0.12404769779176232\n"
          ]
        }
      ]
    },
    {
      "cell_type": "markdown",
      "source": [
        "\n",
        "\n",
        "---\n",
        "\n"
      ],
      "metadata": {
        "id": "arCS_P0NPaBP"
      }
    },
    {
      "cell_type": "markdown",
      "source": [
        "<h2>Ques. 12</h2>"
      ],
      "metadata": {
        "id": "0fzbvdHzBqc0"
      }
    },
    {
      "cell_type": "markdown",
      "source": [
        " Write a small piece of code to explain broadcasting in numpy."
      ],
      "metadata": {
        "id": "y-ojWutlS3vj"
      }
    },
    {
      "cell_type": "code",
      "source": [
        "import numpy as np\n",
        "\n",
        "arr1 = np.array([[1, 2, 3]])\n",
        "arr2 = np.array([4, 5, 6])\n",
        "\n",
        "# Multiplication with broadcasting: arr1 is replicated along the new axis\n",
        "result = arr1 + arr2\n",
        "print(result)\n"
      ],
      "metadata": {
        "colab": {
          "base_uri": "https://localhost:8080/"
        },
        "id": "AnbF1E08S5my",
        "outputId": "118205ad-1bb6-49c5-a6bc-6524b752ecf3"
      },
      "execution_count": 64,
      "outputs": [
        {
          "output_type": "stream",
          "name": "stdout",
          "text": [
            "[[5 7 9]]\n"
          ]
        }
      ]
    },
    {
      "cell_type": "markdown",
      "source": [
        "\n",
        "\n",
        "---\n",
        "\n"
      ],
      "metadata": {
        "id": "1N-dGXo3S7SE"
      }
    },
    {
      "cell_type": "markdown",
      "source": [
        "<h2>Ques. 13</h2>"
      ],
      "metadata": {
        "id": "1NXZpKA7BtN4"
      }
    },
    {
      "cell_type": "markdown",
      "source": [
        "Write a function to compute the argmin of a numpy array. The function should take a numpy array as input and return the index of the minimum element. You can use the np.argmin function to verify your solution.\n"
      ],
      "metadata": {
        "id": "Ep5ryCMaTOKa"
      }
    },
    {
      "cell_type": "code",
      "source": [
        "import numpy as np\n",
        "\n",
        "#custom function\n",
        "def my_argmin(arr):\n",
        "    if arr.size == 0:\n",
        "        return None\n",
        "\n",
        "    min_index = 0\n",
        "    min_value = arr[0]\n",
        "\n",
        "    for i in range(1, arr.size):\n",
        "        if arr[i] < min_value:\n",
        "            min_index = i\n",
        "            min_value = arr[i]\n",
        "\n",
        "    return min_index\n",
        "\n",
        "arr = np.array([4, 2, 1, 5, 3])\n",
        "\n",
        "# Get the argmin using the custom function\n",
        "my_argmin_result = my_argmin(arr)\n",
        "\n",
        "# Get the argmin using NumPy's built-in function\n",
        "np_argmin_result = np.argmin(arr)\n",
        "\n",
        "print(\"Custom argmin:\", my_argmin_result)\n",
        "print(\"NumPy argmin:\", np_argmin_result)\n"
      ],
      "metadata": {
        "colab": {
          "base_uri": "https://localhost:8080/"
        },
        "id": "RKJsh1rjTQPc",
        "outputId": "455e2c80-5490-4bfd-ce1e-62a3268310f2"
      },
      "execution_count": 65,
      "outputs": [
        {
          "output_type": "stream",
          "name": "stdout",
          "text": [
            "Custom argmin: 2\n",
            "NumPy argmin: 2\n"
          ]
        }
      ]
    },
    {
      "cell_type": "markdown",
      "source": [
        "\n",
        "\n",
        "---\n",
        "\n"
      ],
      "metadata": {
        "id": "r86l6wKITQqi"
      }
    }
  ]
}