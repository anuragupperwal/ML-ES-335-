{
  "nbformat": 4,
  "nbformat_minor": 0,
  "metadata": {
    "colab": {
      "provenance": []
    },
    "kernelspec": {
      "name": "python3",
      "display_name": "Python 3"
    },
    "language_info": {
      "name": "python"
    }
  },
  "cells": [
    {
      "cell_type": "markdown",
      "source": [
        "Q1: How many multiplications and additions do you need to perform a matrix multiplication between a (n, k) and (k, m) matrix? Explain."
      ],
      "metadata": {
        "id": "Dk5Oddm9Nl7F"
      }
    },
    {
      "cell_type": "markdown",
      "source": [
        "Ans1:\n",
        "  >For matrices A = (n, k) and B = (k, m) we will have the row of A mulitplied with the column of B. This dot product will involve in total k multiplicaton. We will get the resultant matrix (n, m). In total there will be n*m elements. for each element there will be k multiplications so in total the number of multiplications will be n*m*k. For each element of the resultant matrix we will have to add up the k multiplications so we will need (k-1) additions. For the entire matrix total additions will be  n*m*(k-1)\n",
        "\n",
        "---\n",
        "\n"
      ],
      "metadata": {
        "id": "hv2CArpGOJ_Z"
      }
    },
    {
      "cell_type": "markdown",
      "source": [
        "Q2 Write Python code to multiply the above two matrices. Solve using list of lists and then use numpy. Compare the timing of both solutions. Which one is faster? Why?"
      ],
      "metadata": {
        "id": "iynCKjINUlJ4"
      }
    },
    {
      "cell_type": "markdown",
      "source": [
        "Ans2:\n",
        ">NumPy uses contiguous allocation of memory which helps in efficient utilization by the CPU as when processing most likely the following data is already ready in the queue to be processed. Whereas, in list the data is scattered in the memory which causes delay.\n",
        " NumPy uses vectorized operations, i.e. it can perform operations on the entire array at once and then there is no need of looping. whereas, in list we need to implement loops in order to access elements separately.  \n",
        "Also, numpy functions are based on C language which is very efficient and fast which maked the numPy faster than list of lists.\n"
      ],
      "metadata": {
        "id": "KYHmS8gOSQT0"
      }
    },
    {
      "cell_type": "code",
      "source": [
        "import time\n",
        "\n",
        "def matrixMulUsingListOfLists(x, y):\n",
        "    n, k = len(x), len(x[0])\n",
        "    k, m = len(y), len(y[0])\n",
        "    res = [[0] * m for _ in range(n)]\n",
        "    for i in range(n):\n",
        "        for j in range(m):\n",
        "            for l in range(k):\n",
        "                res[i][j] += x[i][l] * y[l][j]\n",
        "    return res\n",
        "\n",
        "x = [[1, 2, 3], [4, 5, 6]]\n",
        "y = [[7, 8], [9, 10], [11, 12]]\n",
        "\n",
        "startingTime = time.time()\n",
        "resList = matrixMulUsingListOfLists(x, y)\n",
        "endingTime = time.time()\n",
        "listsTime = endingTime - startingTime\n",
        "print(\"List of lists time:\", listsTime)\n"
      ],
      "metadata": {
        "colab": {
          "base_uri": "https://localhost:8080/"
        },
        "id": "aFoWxgb3Uk2C",
        "outputId": "09f34019-b2ee-4d55-c7d9-ea98b73266fa"
      },
      "execution_count": null,
      "outputs": [
        {
          "output_type": "stream",
          "name": "stdout",
          "text": [
            "List of lists time: 0.00011515617370605469\n"
          ]
        }
      ]
    },
    {
      "cell_type": "code",
      "source": [
        "import numpy as np\n",
        "\n",
        "def matrixMulUsingNumpy(x, y):\n",
        "    return np.matmul(x, y)\n",
        "\n",
        "# Example usage\n",
        "x_np = np.array(x)\n",
        "y_np = np.array(y)\n",
        "\n",
        "startingTime = time.time()\n",
        "result_numpy = matrixMulUsingNumpy(x_np, y_np)\n",
        "endingTime = time.time()\n",
        "numpyTime = endingTime - startingTime\n",
        "print(\"NumPy time:\", numpyTime)\n"
      ],
      "metadata": {
        "colab": {
          "base_uri": "https://localhost:8080/"
        },
        "id": "nAvv2PUWOI7J",
        "outputId": "a27424b8-9a13-4177-e4e3-6ac6e5ce3f03"
      },
      "execution_count": null,
      "outputs": [
        {
          "output_type": "stream",
          "name": "stdout",
          "text": [
            "NumPy time: 0.00015544891357421875\n"
          ]
        }
      ]
    },
    {
      "cell_type": "markdown",
      "source": [
        "\n",
        "\n",
        "---\n",
        "\n"
      ],
      "metadata": {
        "id": "3Ka1PJ4ATamr"
      }
    },
    {
      "cell_type": "markdown",
      "source": [
        "Q4: What is the gradient of the following function with respect to x and y?\n",
        "x^2y + y^3sin(x)"
      ],
      "metadata": {
        "id": "8pVsCs10JXJt"
      }
    },
    {
      "cell_type": "markdown",
      "source": [
        "Ans 4:\n",
        "> f() = x^2y + y^3sin(x)<br>\n",
        "Partial derivative with respect to x: df/dx = 2xy + y^3cos(x) <br>\n",
        "Partial derivative with respect to x: df/dy = x^2 + 3y^2sin(x) <br>\n",
        "Thus, Resultant gradient: f(x, y) = 2xy + y^3cos(x), x^2 + 3y^2sin(x)<br>\n",
        "Here, x (i.e. the first component) represents the rate of change of function in y direction. And y (i.e. the second component) represents the rate of change of function in y direction.\n",
        "\n",
        "---\n",
        "\n",
        "\n",
        "\n",
        "\n"
      ],
      "metadata": {
        "id": "Lf37YM_6JXDe"
      }
    },
    {
      "cell_type": "markdown",
      "source": [
        "Q5: Use JAX to confirm the gradient evaluated by your method matches the analytical solution corresponding to a few random values of x and y"
      ],
      "metadata": {
        "id": "j025KrLeJWz1"
      }
    },
    {
      "cell_type": "code",
      "source": [
        "import jax\n",
        "import jax.numpy as jnp\n",
        "from jax import grad\n",
        "\n",
        "@jax.jit\n",
        "def f(x, y):\n",
        "    return jnp.sum(x**2 * y + y**3 * jnp.sin(x))  # Sum to get a scalar output\n",
        "\n",
        "\n",
        "key = jax.random.PRNGKey(42)  # Set a random seed for reproducibility\n",
        "xVals = jax.random.uniform(key, (5, ))  # Generate 5 random values for x\n",
        "yVals = jax.random.uniform(key, (5, ))  # Generate 5 random values for y\n",
        "\n",
        "#compting gradient\n",
        "gradientF = grad(f)\n",
        "gradientVals = gradientF(xVals, yVals)\n",
        "\n",
        "#analytical gradient\n",
        "analyticalGradVals = jnp.stack([2 * xVals * yVals + yVals**3 * jnp.cos(xVals), xVals**2 + 3 * yVals**2 * jnp.sin(xVals)], axis=1)\n",
        "\n",
        "#results\n",
        "print(\"JAX gradients:\", gradientVals)\n",
        "print(\"Analytical gradients:\", analyticalGradVals)\n"
      ],
      "metadata": {
        "id": "zeAD874GRTn8",
        "colab": {
          "base_uri": "https://localhost:8080/"
        },
        "outputId": "b552aade-3f42-4412-e920-511f528aa6cb"
      },
      "execution_count": null,
      "outputs": [
        {
          "output_type": "stream",
          "name": "stdout",
          "text": [
            "JAX gradients: [1.3549877  1.9348412  0.08461008 0.09551075 0.07604416]\n",
            "Analytical gradients: [[1.3549877  1.5980151 ]\n",
            " [1.9348412  2.4866657 ]\n",
            " [0.08461008 0.06118227]\n",
            " [0.09551075 0.07021526]\n",
            " [0.07604416 0.05421515]]\n"
          ]
        }
      ]
    },
    {
      "cell_type": "markdown",
      "source": [
        "\n",
        "\n",
        "---\n",
        "\n"
      ],
      "metadata": {
        "id": "UNq2cKfDLhqw"
      }
    },
    {
      "cell_type": "markdown",
      "source": [
        "Q7 Create a Python nested dictionary to represent hierarchical information. We want to store record of students and their marks. Something like: ...\n",
        "\n"
      ],
      "metadata": {
        "id": "BoZew8LmUvnv"
      }
    },
    {
      "cell_type": "code",
      "source": [
        "stud_records = {\n",
        "    \"2022\": {\n",
        "        \"Branch 1\": {\n",
        "            \"1\": {\n",
        "                \"Name\": \"N\",\n",
        "                \"Marks\": {\n",
        "                    \"Maths\": 100,\n",
        "                    \"English\": 70,\n",
        "                    # ... other subjects\n",
        "                }\n",
        "            },\n",
        "            # ... Data in Branch 1\n",
        "        },\n",
        "        \"Branch 2\": {\n",
        "            # ... Data Branch 2\n",
        "        }\n",
        "    },\n",
        "    \"2023\": {\n",
        "        # ... Data of bath of 2023\n",
        "    },\n",
        "    \"2024\": {\n",
        "        # ... Data of bath of 2024\n",
        "    },\n",
        "    \"2025\": {\n",
        "        # ... Data of bath of 2025\n",
        "    }\n",
        "}\n"
      ],
      "metadata": {
        "id": "8xv382raU7gc"
      },
      "execution_count": null,
      "outputs": []
    },
    {
      "cell_type": "markdown",
      "source": [
        "\n",
        "\n",
        "---\n",
        "\n"
      ],
      "metadata": {
        "id": "qDPw9ZU6PLam"
      }
    },
    {
      "cell_type": "markdown",
      "source": [
        "Q8: Store the same information using Python classes. We have an overall database which is a list of year objects. Each year contains a list of branches. Each branch contains a list of students. Each student has some properties like name, roll number and has marks in some subjects."
      ],
      "metadata": {
        "id": "-EZdPWzJUviy"
      }
    },
    {
      "cell_type": "code",
      "source": [
        "class Student:\n",
        "    def __init__(self, name, roll_number, marks):\n",
        "        self.name = name\n",
        "        self.roll_number = roll_number\n",
        "        self.marks = marks\n",
        "\n",
        "class Branch:\n",
        "    def __init__(self, name):\n",
        "        self.name = name\n",
        "        self.students = []\n",
        "\n",
        "    def AddStudent(self, student):\n",
        "        self.students.append(student)\n",
        "\n",
        "class Year:\n",
        "    def __init__(self, year):\n",
        "        self.year = year\n",
        "        self.branches = []\n",
        "\n",
        "    def AddBranch(self, branch):\n",
        "        self.branches.append(branch)\n",
        "\n",
        "class Database:\n",
        "    def __init__(self):\n",
        "        self.years = []\n",
        "\n",
        "    def AddYear(self, year):\n",
        "        self.years.append(year)\n",
        "\n",
        "\n",
        "database = Database()\n",
        "\n",
        "year2023 = Year(2023)\n",
        "branch1 = Branch(\"Branch 1\")\n",
        "branch1.AddStudent(Student(\"N\", 1, {\"Maths\": 99, \"English\": 89}))\n",
        "year2023.AddBranch(branch1)\n",
        "\n",
        "database.AddYear(year2023)\n",
        "\n",
        "\n",
        "# Get marks of student with roll number 1 in Branch 1 of 2023\n",
        "student = database.years[0].branches[0].students[0]\n",
        "print(student.marks[\"Maths\"])  # Output: 100\n"
      ],
      "metadata": {
        "colab": {
          "base_uri": "https://localhost:8080/"
        },
        "id": "u7wwPtUaO0E3",
        "outputId": "e2878f47-8a1d-4f7c-82c0-a992cfd81679"
      },
      "execution_count": null,
      "outputs": [
        {
          "output_type": "stream",
          "name": "stdout",
          "text": [
            "99\n"
          ]
        }
      ]
    },
    {
      "cell_type": "markdown",
      "source": [
        "\n",
        "\n",
        "---\n",
        "\n"
      ],
      "metadata": {
        "id": "JR6xHjE6UvY7"
      }
    },
    {
      "cell_type": "markdown",
      "source": [
        "Q10: Using numpy generate a matrix of size 20X5 containing random numbers drawn uniformly from the range of 1 to 2. Using Pandas create a dataframe out of this matrix. Name the columns of the dataframe as “a”, “b”, “c”, “d”, “e”. Find the column with the highest standard deviation. Find the row with the lowest mean."
      ],
      "metadata": {
        "id": "ZlC6-QqiNoyX"
      }
    },
    {
      "cell_type": "code",
      "source": [
        "import numpy as np\n",
        "import pandas as pd\n",
        "\n",
        "# Generate random numbers between 1 and 2 (exclusive)\n",
        "randomMatrix = np.random.uniform(low=1, high=2, size=(20, 5))\n",
        "\n",
        "# Print the matrix\n",
        "print(randomMatrix)\n",
        "\n",
        "\n",
        "# Create the DataFrame from the NumPy matrix\n",
        "df = pd.DataFrame(randomMatrix, columns=['a', 'b', 'c', 'd', 'e'])\n",
        "\n",
        "# Find the column with the highest standard deviation\n",
        "colHighestSD = df.std().idxmax()\n",
        "print(\"Highest standard deviation column:\", colHighestSD)\n",
        "\n",
        "# Find the row with the lowest mean\n",
        "rowLowestMean = df.mean(axis=1).idxmin()\n",
        "print(\"Lowest mean row:\", rowLowestMean)\n",
        "\n"
      ],
      "metadata": {
        "id": "44O-cu1XPeY5",
        "colab": {
          "base_uri": "https://localhost:8080/"
        },
        "outputId": "bc8136f1-50c7-458a-8dd9-989f101eec24"
      },
      "execution_count": null,
      "outputs": [
        {
          "output_type": "stream",
          "name": "stdout",
          "text": [
            "[[1.67767721 1.86242665 1.2247503  1.619655   1.23474478]\n",
            " [1.03136973 1.63332991 1.98067355 1.98461482 1.1844077 ]\n",
            " [1.60652108 1.88164256 1.84609507 1.00615048 1.70205354]\n",
            " [1.96578868 1.71716928 1.47336764 1.80684245 1.95121579]\n",
            " [1.9102647  1.01244582 1.77796524 1.50185883 1.73527795]\n",
            " [1.29911574 1.47692846 1.27149816 1.3017389  1.1117008 ]\n",
            " [1.66983608 1.57400528 1.4388682  1.26237764 1.27013168]\n",
            " [1.36848051 1.39579626 1.06350796 1.86662603 1.77561101]\n",
            " [1.09125234 1.01158034 1.21316405 1.99966616 1.52148689]\n",
            " [1.07588052 1.4078563  1.96413705 1.76563467 1.68564792]\n",
            " [1.30852209 1.19469568 1.87097477 1.54611261 1.31273728]\n",
            " [1.91692013 1.82232003 1.68149327 1.57625873 1.15844996]\n",
            " [1.55904734 1.30870393 1.87209789 1.80538864 1.77707188]\n",
            " [1.95907298 1.26419353 1.85319508 1.12512939 1.69645001]\n",
            " [1.27683503 1.12099798 1.25514622 1.90525305 1.07919678]\n",
            " [1.23763056 1.010476   1.46686815 1.72123221 1.79957137]\n",
            " [1.76238326 1.08716151 1.2055838  1.6103182  1.35990224]\n",
            " [1.50147913 1.0289191  1.45259846 1.45452042 1.4062031 ]\n",
            " [1.18086466 1.56108796 1.25286866 1.3645128  1.91126341]\n",
            " [1.54804604 1.26422264 1.37744863 1.75846921 1.56720875]]\n",
            "Highest standard deviation column: a\n",
            "Lowest mean row: 5\n"
          ]
        }
      ]
    },
    {
      "cell_type": "markdown",
      "source": [
        "\n",
        "\n",
        "---\n",
        "\n"
      ],
      "metadata": {
        "id": "DkYPgIPnQ7e_"
      }
    },
    {
      "cell_type": "markdown",
      "source": [
        "Q11: Add a new column to the dataframe called “f” which is the sum of the columns “a”, “b”, “c”, “d”, “e”. Create another column called “g”. The value in the column “g” should be “LT8” if the value in the column “f” is less than 8 and “GT8” otherwise. Find the number of rows in the dataframe where the value in the column “g” is “LT8”. Find the standard deviation of the column “f” for the rows where the value in the column “g” is “LT8” and “GT8” respectively."
      ],
      "metadata": {
        "id": "WY2pcM1HQ9Dd"
      }
    },
    {
      "cell_type": "code",
      "source": [
        "# Add the \"f\" column as the sum of columns \"a\", \"b\", \"c\", \"d\", \"e\"\n",
        "df['f'] = df[['a', 'b', 'c', 'd', 'e']].sum(axis=1)\n",
        "\n",
        "# Create the \"g\" column based on the value in \"f\"\n",
        "df['g'] = np.where(df['f'] < 8, 'LT8', 'GT8')\n",
        "\n",
        "# Count rows with \"LT8\" in column \"g\"\n",
        "lt8Count = df[df['g'] == 'LT8'].shape[0]\n",
        "print(\"Number of rows with 'LT8' in 'g':\", lt8Count)\n",
        "# Count rows with \"GT8\" in column \"g\"\n",
        "lt8Count = df[df['g'] == 'GT8'].shape[0]\n",
        "print(\"Number of rows with 'GT8' in 'g':\", lt8Count)\n",
        "\n",
        "# Calculate standard deviations for \"f\" based on \"g\"\n",
        "stdLt8 = df[df['g'] == 'LT8']['f'].std()\n",
        "stdGt8 = df[df['g'] == 'GT8']['f'].std()\n",
        "print(\"Standard deviation of 'f' for 'LT8':\", stdLt8)\n",
        "print(\"Standard deviation of 'f' for 'GT8':\", stdGt8)\n",
        "\n"
      ],
      "metadata": {
        "id": "j3LDY4cFPeMY",
        "colab": {
          "base_uri": "https://localhost:8080/"
        },
        "outputId": "ec21ae3f-0d57-47ec-e7b3-52daa1e2d4a4"
      },
      "execution_count": null,
      "outputs": [
        {
          "output_type": "stream",
          "name": "stdout",
          "text": [
            "Number of rows with 'LT8' in 'g': 16\n",
            "Number of rows with 'GT8' in 'g': 4\n",
            "Standard deviation of 'f' for 'LT8': 0.4634607573608759\n",
            "Standard deviation of 'f' for 'GT8': 0.38791259721448457\n"
          ]
        }
      ]
    },
    {
      "cell_type": "markdown",
      "source": [
        "\n",
        "\n",
        "---\n",
        "\n"
      ],
      "metadata": {
        "id": "arCS_P0NPaBP"
      }
    },
    {
      "cell_type": "markdown",
      "source": [
        "Q12: Write a small piece of code to explain broadcasting in numpy."
      ],
      "metadata": {
        "id": "y-ojWutlS3vj"
      }
    },
    {
      "cell_type": "code",
      "source": [
        "import numpy as np\n",
        "\n",
        "# Array with a trailing dimension of 1\n",
        "arr1 = np.array([[1, 2, 3]])       # Shape (1, 3)\n",
        "arr2 = np.array([4, 5, 6])         # Shape (3,)\n",
        "\n",
        "# Multiplication with broadcasting: arr1 is replicated along the new axis\n",
        "result = arr1 + arr2\n",
        "print(result)\n"
      ],
      "metadata": {
        "colab": {
          "base_uri": "https://localhost:8080/"
        },
        "id": "AnbF1E08S5my",
        "outputId": "25b3566d-56f2-405f-bb43-8b0a4816f6b4"
      },
      "execution_count": null,
      "outputs": [
        {
          "output_type": "stream",
          "name": "stdout",
          "text": [
            "[[5 7 9]]\n"
          ]
        }
      ]
    },
    {
      "cell_type": "markdown",
      "source": [
        "\n",
        "\n",
        "---\n",
        "\n"
      ],
      "metadata": {
        "id": "1N-dGXo3S7SE"
      }
    },
    {
      "cell_type": "markdown",
      "source": [
        "Q13: Write a function to compute the argmin of a numpy array. The function should take a numpy array as input and return the index of the minimum element. You can use the np.argmin function to verify your solution.\n"
      ],
      "metadata": {
        "id": "Ep5ryCMaTOKa"
      }
    },
    {
      "cell_type": "code",
      "source": [
        "import numpy as np\n",
        "\n",
        "def my_argmin(arr):\n",
        "    \"\"\"\n",
        "    Computes the index of the minimum element in a NumPy array.\n",
        "\n",
        "    Args:\n",
        "        arr: A NumPy array.\n",
        "\n",
        "    Returns:\n",
        "        The index of the minimum element.\n",
        "    \"\"\"\n",
        "\n",
        "    if arr.size == 0:  # Handle empty arrays\n",
        "        return None\n",
        "\n",
        "    min_index = 0\n",
        "    min_value = arr[0]\n",
        "\n",
        "    for i in range(1, arr.size):\n",
        "        if arr[i] < min_value:\n",
        "            min_index = i\n",
        "            min_value = arr[i]\n",
        "\n",
        "    return min_index\n",
        "\n",
        "# Create a sample array\n",
        "arr = np.array([4, 2, 1, 5, 3])\n",
        "\n",
        "# Get the argmin using the custom function\n",
        "my_argmin_result = my_argmin(arr)\n",
        "\n",
        "# Get the argmin using NumPy's built-in function\n",
        "np_argmin_result = np.argmin(arr)\n",
        "\n",
        "# Print the results\n",
        "print(\"Custom argmin:\", my_argmin_result)\n",
        "print(\"NumPy argmin:\", np_argmin_result)\n"
      ],
      "metadata": {
        "colab": {
          "base_uri": "https://localhost:8080/"
        },
        "id": "RKJsh1rjTQPc",
        "outputId": "504685ce-d740-4e3a-cde3-070c621cbfd6"
      },
      "execution_count": null,
      "outputs": [
        {
          "output_type": "stream",
          "name": "stdout",
          "text": [
            "Custom argmin: 2\n",
            "NumPy argmin: 2\n"
          ]
        }
      ]
    },
    {
      "cell_type": "markdown",
      "source": [
        "\n",
        "\n",
        "---\n",
        "\n"
      ],
      "metadata": {
        "id": "r86l6wKITQqi"
      }
    },
    {
      "cell_type": "code",
      "source": [],
      "metadata": {
        "id": "UUIXRu6ALUqr"
      },
      "execution_count": null,
      "outputs": []
    },
    {
      "cell_type": "code",
      "source": [],
      "metadata": {
        "id": "DQVt0PQfLUfh"
      },
      "execution_count": null,
      "outputs": []
    }
  ]
}